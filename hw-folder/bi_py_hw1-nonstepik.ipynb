{
 "cells": [
  {
   "cell_type": "code",
   "execution_count": 6,
   "id": "9993df6c-cc9b-48a7-aec1-d095878747f7",
   "metadata": {},
   "outputs": [],
   "source": [
    "# 1"
   ]
  },
  {
   "cell_type": "code",
   "execution_count": 68,
   "id": "d2cf4dd0-3130-42ff-8913-c2658939730a",
   "metadata": {},
   "outputs": [],
   "source": [
    "class Uchiha():\n",
    "    doujutsu = \"sharingan\"\n",
    "    def __init__(self):\n",
    "        self.chakra_limit = 100\n",
    "    def fire_ball_jutsu(self, chakra):\n",
    "        if chakra < self.chakra_limit:\n",
    "            self.chakra_limit = self.chakra_limit - chakra\n",
    "            print(\"Katon: Gōkakyū no Jutsu\")\n",
    "        else:\n",
    "            self.chakra_limit += 150\n",
    "            print(\"Activate Cursed Seal of Heaven!\")\n",
    "    def kirin(self, chakra):\n",
    "        if chakra >= 200 and self.chakra_limit >= 200:\n",
    "            self.chakra_limit = self.chakra_limit - chakra\n",
    "            print(\"KIRIN!\")\n",
    "        elif chakra >= 200 and self.chakra_limit < 200:\n",
    "            self.chakra_limit += 200\n",
    "            print(\"Mangekyō Sharingan!\")\n",
    "        else:\n",
    "            print(\"soo how is the weather lately?\")\n",
    "        "
   ]
  },
  {
   "cell_type": "code",
   "execution_count": 69,
   "id": "0a803a68-ab47-4b86-9c49-51fedd6dc98f",
   "metadata": {},
   "outputs": [],
   "source": [
    "Sasuke = Uchiha()"
   ]
  },
  {
   "cell_type": "code",
   "execution_count": 70,
   "id": "82dfa738-2ea7-40a6-9c84-7eb2fe8d68e8",
   "metadata": {},
   "outputs": [
    {
     "data": {
      "text/plain": [
       "'sharingan'"
      ]
     },
     "execution_count": 70,
     "metadata": {},
     "output_type": "execute_result"
    }
   ],
   "source": [
    "Sasuke.doujutsu"
   ]
  },
  {
   "cell_type": "code",
   "execution_count": 71,
   "id": "92200818-10dc-4079-86a0-488d3b979524",
   "metadata": {},
   "outputs": [
    {
     "name": "stdout",
     "output_type": "stream",
     "text": [
      "Katon: Gōkakyū no Jutsu\n"
     ]
    }
   ],
   "source": [
    "Sasuke.fire_ball_jutsu(99)"
   ]
  },
  {
   "cell_type": "code",
   "execution_count": 72,
   "id": "91402c4d-1fd8-46d5-be6b-53cff5da7ee5",
   "metadata": {},
   "outputs": [
    {
     "name": "stdout",
     "output_type": "stream",
     "text": [
      "Activate Cursed Seal of Heaven!\n"
     ]
    }
   ],
   "source": [
    "Sasuke.fire_ball_jutsu(50)"
   ]
  },
  {
   "cell_type": "code",
   "execution_count": 73,
   "id": "e364166c-de4c-496c-a42a-8faf0d3ea165",
   "metadata": {},
   "outputs": [
    {
     "data": {
      "text/plain": [
       "151"
      ]
     },
     "execution_count": 73,
     "metadata": {},
     "output_type": "execute_result"
    }
   ],
   "source": [
    "Sasuke.chakra_limit"
   ]
  },
  {
   "cell_type": "code",
   "execution_count": 74,
   "id": "d8a8e822-9d1b-4da8-b211-df505d4460ad",
   "metadata": {},
   "outputs": [
    {
     "name": "stdout",
     "output_type": "stream",
     "text": [
      "Mangekyō Sharingan!\n"
     ]
    }
   ],
   "source": [
    "Sasuke.kirin(200)"
   ]
  },
  {
   "cell_type": "code",
   "execution_count": 75,
   "id": "a01a79fd-c50b-4880-8a7a-3d6378aaab22",
   "metadata": {},
   "outputs": [
    {
     "name": "stdout",
     "output_type": "stream",
     "text": [
      "KIRIN!\n"
     ]
    }
   ],
   "source": [
    "Sasuke.kirin(200)"
   ]
  },
  {
   "cell_type": "code",
   "execution_count": 76,
   "id": "a06ede9d-620d-4865-b3ef-60b3d92a6b41",
   "metadata": {},
   "outputs": [
    {
     "name": "stdout",
     "output_type": "stream",
     "text": [
      "soo how is the weather lately?\n"
     ]
    }
   ],
   "source": [
    "Sasuke.kirin(100)"
   ]
  },
  {
   "cell_type": "code",
   "execution_count": null,
   "id": "d0d40d04-4cc2-4bba-8670-9514a89fe24a",
   "metadata": {},
   "outputs": [],
   "source": []
  }
 ],
 "metadata": {
  "kernelspec": {
   "display_name": "Python 3",
   "language": "python",
   "name": "python3"
  },
  "language_info": {
   "codemirror_mode": {
    "name": "ipython",
    "version": 3
   },
   "file_extension": ".py",
   "mimetype": "text/x-python",
   "name": "python",
   "nbconvert_exporter": "python",
   "pygments_lexer": "ipython3",
   "version": "3.8.8"
  }
 },
 "nbformat": 4,
 "nbformat_minor": 5
}
